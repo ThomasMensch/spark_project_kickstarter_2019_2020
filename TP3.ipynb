{
 "cells": [
  {
   "cell_type": "markdown",
   "metadata": {},
   "source": [
    "# TP3\n",
    "\n",
    "## 0. import packages"
   ]
  },
  {
   "cell_type": "code",
   "execution_count": 1,
   "metadata": {},
   "outputs": [
    {
     "data": {
      "text/plain": [
       "Intitializing Scala interpreter ..."
      ]
     },
     "metadata": {},
     "output_type": "display_data"
    },
    {
     "data": {
      "text/plain": [
       "Spark Web UI available at http://172.21.129.6:4041\n",
       "SparkContext available as 'sc' (version = 2.3.4, master = local[*], app id = local-1575748940783)\n",
       "SparkSession available as 'spark'\n"
      ]
     },
     "metadata": {},
     "output_type": "display_data"
    },
    {
     "data": {
      "text/plain": [
       "import org.apache.spark.sql.DataFrame\n",
       "import org.apache.spark.ml.feature.RegexTokenizer\n",
       "import org.apache.spark.ml.feature.StopWordsRemover\n",
       "import org.apache.spark.ml.feature.{CountVectorizer, CountVectorizerModel}\n",
       "import org.apache.spark.ml.feature.IDF\n",
       "import org.apache.spark.ml.feature.StringIndexer\n",
       "import org.apache.spark.ml.feature.OneHotEncoderEstimator\n",
       "import org.apache.spark.ml.feature.VectorAssembler\n",
       "import org.apache.spark.ml.feature.Bucketizer\n",
       "import org.apache.spark.ml.feature.StandardScaler\n",
       "import org.apache.spark.ml.classification.LogisticRegression\n",
       "import org.apache.spark.ml.classification.DecisionTreeClassifier\n",
       "import org.apache.spark.ml.{Pipeline, PipelineModel}\n",
       "import org.apache.spark.ml.tuning.{ParamGridBuilder, TrainValidationSplit}\n",
       "import org.apache.spark.ml.evaluati..."
      ]
     },
     "execution_count": 1,
     "metadata": {},
     "output_type": "execute_result"
    }
   ],
   "source": [
    "import org.apache.spark.sql.DataFrame\n",
    "\n",
    "import org.apache.spark.ml.feature.RegexTokenizer\n",
    "import org.apache.spark.ml.feature.StopWordsRemover\n",
    "import org.apache.spark.ml.feature.{CountVectorizer, CountVectorizerModel}\n",
    "import org.apache.spark.ml.feature.IDF\n",
    "import org.apache.spark.ml.feature.StringIndexer\n",
    "import org.apache.spark.ml.feature.OneHotEncoderEstimator\n",
    "import org.apache.spark.ml.feature.VectorAssembler\n",
    "import org.apache.spark.ml.feature.Bucketizer\n",
    "import org.apache.spark.ml.feature.StandardScaler\n",
    "\n",
    "import org.apache.spark.ml.classification.LogisticRegression\n",
    "import org.apache.spark.ml.classification.DecisionTreeClassifier\n",
    "\n",
    "import org.apache.spark.ml.{Pipeline, PipelineModel}\n",
    "\n",
    "import org.apache.spark.ml.tuning.{ParamGridBuilder, TrainValidationSplit}\n",
    "import org.apache.spark.ml.evaluation.MulticlassClassificationEvaluator"
   ]
  },
  {
   "cell_type": "markdown",
   "metadata": {},
   "source": [
    "## Load DataFrame"
   ]
  },
  {
   "cell_type": "code",
   "execution_count": 2,
   "metadata": {
    "scrolled": true
   },
   "outputs": [
    {
     "name": "stdout",
     "output_type": "stream",
     "text": [
      "From TP2\n",
      "\tNombre de lignes : 108129\n",
      "\tNombre de colonnes : 11\n",
      "\n",
      "After additional cleaning\n",
      "\tNombre de lignes : 107615\n",
      "\tNombre de colonnes : 11\n",
      "+--------------+--------------------+--------------------+------+--------------------+------------+--------+---------+-------------+-----------+--------------------+\n",
      "|    project_id|                name|                desc|  goal|            keywords|final_status|country2|currency2|days_campaign|hours_prepa|                text|\n",
      "+--------------+--------------------+--------------------+------+--------------------+------------+--------+---------+-------------+-----------+--------------------+\n",
      "| kkst471421639|american options ...|looking to create...|100000|american-options-...|           0|      US|      USD|           30|    140.125|american options ...|\n",
      "|kkst1098019088|iheadbones bone c...|wireless bluetoot...| 20000|iheadbones-bone-c...|           0|      US|      USD|           30|   18642.51|iheadbones bone c...|\n",
      "|kkst1719475563| the fridge magazine|the fridge is a n...|   700| the-fridge-magazine|           0|      US|      USD|           60|    336.101|the fridge magazi...|\n",
      "| kkst564469925|support new men's...|it s been over 10...| 12800|support-new-mens-...|           0|      US|      USD|           60|    214.206|support new men's...|\n",
      "|kkst1213811673|             can('t)|a psychological h...|  1500|              cant-0|           0|      US|      USD|           10|     41.538|can('t) a psychol...|\n",
      "| kkst604127707|     fragmented fate|experience a mode...| 60000|     fragmented-fate|           0|      US|      USD|           30|     35.638|fragmented fate e...|\n",
      "| kkst152922918|transport (suspen...|help ons met een ...| 10000|           transport|           0|      NL|      EUR|           30|     23.695|transport (suspen...|\n",
      "|  kkst15847426|the secret life o...|a stage show usin...|  1000|the-secret-life-o...|           0|      GB|      GBP|           30|    359.841|the secret life o...|\n",
      "|kkst1019043720|         cc survival|deception. diplom...|  1000|         cc-survival|           0|      GB|      GBP|           18|    144.552|cc survival decep...|\n",
      "| kkst830969808|the best protein ...|all natural  no a...|145000|the-best-protein-...|           0|      US|      USD|           30|    138.436|the best protein ...|\n",
      "+--------------+--------------------+--------------------+------+--------------------+------------+--------+---------+-------------+-----------+--------------------+\n",
      "only showing top 10 rows\n",
      "\n"
     ]
    },
    {
     "data": {
      "text/plain": [
       "path_to_data: String = ressources/\n",
       "df: org.apache.spark.sql.DataFrame = [project_id: string, name: string ... 9 more fields]\n",
       "preprocessed: org.apache.spark.sql.DataFrame = [project_id: string, name: string ... 9 more fields]\n"
      ]
     },
     "execution_count": 2,
     "metadata": {},
     "output_type": "execute_result"
    }
   ],
   "source": [
    "val path_to_data : String = \"ressources/\"\n",
    "\n",
    "//val df: DataFrame = spark.read.parquet(path_to_data + \"prepared_trainingset\")\n",
    "// From TP2\n",
    "val df: DataFrame = spark.read.parquet(path_to_data + \"preprocessed\")\n",
    "\n",
    "println(\"From TP2\")\n",
    "println(s\"\\tNombre de lignes : ${df.count}\")\n",
    "println(s\"\\tNombre de colonnes : ${df.columns.length}\")\n",
    "\n",
    "val preprocessed: DataFrame  = df\n",
    "    .filter($\"days_campaign\" =!= -1)\n",
    "    .filter($\"hours_prepa\" =!= -1)\n",
    "    .filter($\"goal\" =!= -1)\n",
    "    .filter($\"country2\" =!= \"Unknown\")\n",
    "    .filter($\"currency2\" =!= \"Unknown\")\n",
    "\n",
    "println(\"\\nAfter additional cleaning\")\n",
    "println(s\"\\tNombre de lignes : ${preprocessed.count}\")\n",
    "println(s\"\\tNombre de colonnes : ${preprocessed.columns.length}\")\n",
    "\n",
    "preprocessed.show(10)"
   ]
  },
  {
   "cell_type": "code",
   "execution_count": 3,
   "metadata": {},
   "outputs": [
    {
     "name": "stdout",
     "output_type": "stream",
     "text": [
      "root\n",
      " |-- project_id: string (nullable = true)\n",
      " |-- name: string (nullable = true)\n",
      " |-- desc: string (nullable = true)\n",
      " |-- goal: integer (nullable = true)\n",
      " |-- keywords: string (nullable = true)\n",
      " |-- final_status: integer (nullable = true)\n",
      " |-- country2: string (nullable = true)\n",
      " |-- currency2: string (nullable = true)\n",
      " |-- days_campaign: integer (nullable = true)\n",
      " |-- hours_prepa: double (nullable = true)\n",
      " |-- text: string (nullable = true)\n",
      "\n"
     ]
    }
   ],
   "source": [
    "preprocessed.printSchema()"
   ]
  },
  {
   "cell_type": "code",
   "execution_count": 4,
   "metadata": {},
   "outputs": [
    {
     "name": "stdout",
     "output_type": "stream",
     "text": [
      "+--------+------------------+\n",
      "|    goal|             goal2|\n",
      "+--------+------------------+\n",
      "|100000.0| 11.51293546492023|\n",
      "| 20000.0|  9.90353755128617|\n",
      "|   700.0|  6.55250788703459|\n",
      "| 12800.0|  9.45727857185611|\n",
      "|  1500.0| 7.313886831633462|\n",
      "| 60000.0|11.002116507732017|\n",
      "| 10000.0| 9.210440366976517|\n",
      "|  1000.0|  6.90875477931522|\n",
      "|  1000.0|  6.90875477931522|\n",
      "|145000.0|11.884495917930655|\n",
      "+--------+------------------+\n",
      "only showing top 10 rows\n",
      "\n"
     ]
    },
    {
     "data": {
      "text/plain": [
       "import scala.math.log1p\n",
       "goalLog: (x: Double)Double\n",
       "goalLogUdf: org.apache.spark.sql.expressions.UserDefinedFunction = UserDefinedFunction(<function1>,DoubleType,Some(List(DoubleType)))\n",
       "preprocessed_2: org.apache.spark.sql.DataFrame = [project_id: string, name: string ... 10 more fields]\n"
      ]
     },
     "execution_count": 4,
     "metadata": {},
     "output_type": "execute_result"
    }
   ],
   "source": [
    "import scala.math.log1p\n",
    "\n",
    "def goalLog(x: Double): Double = {\n",
    "    val x_out = log1p(x)\n",
    "    x_out\n",
    "}\n",
    "\n",
    "val goalLogUdf = udf(goalLog _)\n",
    "\n",
    "val preprocessed_2: DataFrame = preprocessed\n",
    "  .withColumn(\"goal\", $\"goal\".cast(\"Double\"))\n",
    "  .withColumn(\"goal2\", goalLogUdf($\"goal\"))\n",
    "\n",
    "\n",
    "preprocessed_2.select(\"goal\", \"goal2\").show(10)"
   ]
  },
  {
   "cell_type": "code",
   "execution_count": 5,
   "metadata": {},
   "outputs": [
    {
     "name": "stdout",
     "output_type": "stream",
     "text": [
      "root\n",
      " |-- project_id: string (nullable = true)\n",
      " |-- name: string (nullable = true)\n",
      " |-- desc: string (nullable = true)\n",
      " |-- goal: double (nullable = true)\n",
      " |-- keywords: string (nullable = true)\n",
      " |-- final_status: integer (nullable = true)\n",
      " |-- country2: string (nullable = true)\n",
      " |-- currency2: string (nullable = true)\n",
      " |-- days_campaign: integer (nullable = true)\n",
      " |-- hours_prepa: double (nullable = true)\n",
      " |-- text: string (nullable = true)\n",
      " |-- goal2: double (nullable = true)\n",
      "\n"
     ]
    }
   ],
   "source": [
    "preprocessed_2.printSchema()"
   ]
  },
  {
   "cell_type": "markdown",
   "metadata": {},
   "source": [
    "## 2. Transform text into a feature vector"
   ]
  },
  {
   "cell_type": "code",
   "execution_count": 6,
   "metadata": {},
   "outputs": [
    {
     "name": "stdout",
     "output_type": "stream",
     "text": [
      "+--------------------+\n",
      "|              tokens|\n",
      "+--------------------+\n",
      "|[american, option...|\n",
      "|[iheadbones, bone...|\n",
      "|[the, fridge, mag...|\n",
      "|[support, new, me...|\n",
      "|[can, t, a, psych...|\n",
      "|[fragmented, fate...|\n",
      "|[transport, suspe...|\n",
      "|[the, secret, lif...|\n",
      "|[cc, survival, de...|\n",
      "|[the, best, prote...|\n",
      "+--------------------+\n",
      "only showing top 10 rows\n",
      "\n"
     ]
    },
    {
     "data": {
      "text/plain": [
       "tokenizer: org.apache.spark.ml.feature.RegexTokenizer = regexTok_ffeff5c1581b\n",
       "tokenized: org.apache.spark.sql.DataFrame = [project_id: string, name: string ... 11 more fields]\n"
      ]
     },
     "execution_count": 6,
     "metadata": {},
     "output_type": "execute_result"
    }
   ],
   "source": [
    "val tokenizer = new RegexTokenizer()\n",
    "  .setPattern(\"\\\\W+\")\n",
    "  .setGaps(true)\n",
    "  .setInputCol(\"text\")\n",
    "  .setOutputCol(\"tokens\")\n",
    "\n",
    "val tokenized = tokenizer.transform(preprocessed_2)\n",
    "\n",
    "tokenized.select(\"tokens\").show(10)"
   ]
  },
  {
   "cell_type": "markdown",
   "metadata": {},
   "source": [
    "## 3. Remove stop words"
   ]
  },
  {
   "cell_type": "code",
   "execution_count": 7,
   "metadata": {
    "scrolled": false
   },
   "outputs": [
    {
     "name": "stdout",
     "output_type": "stream",
     "text": [
      "+--------------------+--------------------+\n",
      "|              tokens|            filtered|\n",
      "+--------------------+--------------------+\n",
      "|[american, option...|[american, option...|\n",
      "|[iheadbones, bone...|[iheadbones, bone...|\n",
      "|[the, fridge, mag...|[fridge, magazine...|\n",
      "|[support, new, me...|[support, new, me...|\n",
      "|[can, t, a, psych...|[psychological, h...|\n",
      "|[fragmented, fate...|[fragmented, fate...|\n",
      "|[transport, suspe...|[transport, suspe...|\n",
      "|[the, secret, lif...|[secret, life, mo...|\n",
      "|[cc, survival, de...|[cc, survival, de...|\n",
      "|[the, best, prote...|[best, protein, d...|\n",
      "+--------------------+--------------------+\n",
      "only showing top 10 rows\n",
      "\n"
     ]
    },
    {
     "data": {
      "text/plain": [
       "remover: org.apache.spark.ml.feature.StopWordsRemover = stopWords_ee25c6ea29c4\n",
       "filtered: org.apache.spark.sql.DataFrame = [project_id: string, name: string ... 12 more fields]\n"
      ]
     },
     "execution_count": 7,
     "metadata": {},
     "output_type": "execute_result"
    }
   ],
   "source": [
    "val remover = new StopWordsRemover()\n",
    "  .setInputCol(tokenizer.getOutputCol)\n",
    "  .setOutputCol(\"filtered\")\n",
    "\n",
    "StopWordsRemover.loadDefaultStopWords(\"english\")\n",
    "\n",
    "val filtered = remover.transform(tokenized)\n",
    "\n",
    "filtered.select(\"tokens\", \"filtered\").show(10)"
   ]
  },
  {
   "cell_type": "markdown",
   "metadata": {},
   "source": [
    "## 4. Compute *TF* part"
   ]
  },
  {
   "cell_type": "code",
   "execution_count": 8,
   "metadata": {},
   "outputs": [
    {
     "name": "stdout",
     "output_type": "stream",
     "text": [
      "+--------------------+--------------------+\n",
      "|            filtered|                  tf|\n",
      "+--------------------+--------------------+\n",
      "|[american, option...|(97856,[33,43,91,...|\n",
      "|[iheadbones, bone...|(97856,[701,874,8...|\n",
      "|[fridge, magazine...|(97856,[0,7,87,30...|\n",
      "|[support, new, me...|(97856,[0,60,86,1...|\n",
      "|[psychological, h...|(97856,[3,10,13,6...|\n",
      "|[fragmented, fate...|(97856,[88,114,15...|\n",
      "|[transport, suspe...|(97856,[2,19,44,6...|\n",
      "|[secret, life, mo...|(97856,[11,19,31,...|\n",
      "|[cc, survival, de...|(97856,[9,118,286...|\n",
      "|[best, protein, d...|(97856,[50,79,218...|\n",
      "|[paradise, falls,...|(97856,[9,10,23,1...|\n",
      "|[chalet, woodshop...|(97856,[7,33,185,...|\n",
      "|[vagabond, mobile...|(97856,[4,14,105,...|\n",
      "|[southern, shakes...|(97856,[50,103,11...|\n",
      "|[leviathan, monta...|(97856,[32,42,110...|\n",
      "|[candle, tray, ha...|(97856,[48,90,150...|\n",
      "|[sun, skin, missi...|(97856,[110,571,8...|\n",
      "|[7sonic, debut, s...|(97856,[1,18,42,4...|\n",
      "|[hades, pit, fema...|(97856,[3,52,53,6...|\n",
      "|[fitness, refiner...|(97856,[33,89,260...|\n",
      "+--------------------+--------------------+\n",
      "only showing top 20 rows\n",
      "\n"
     ]
    },
    {
     "data": {
      "text/plain": [
       "countVectorizer: org.apache.spark.ml.feature.CountVectorizer = cntVec_7a4acd38a546\n",
       "tfModel: org.apache.spark.ml.feature.CountVectorizerModel = cntVec_7a4acd38a546\n",
       "featurized: org.apache.spark.sql.DataFrame = [project_id: string, name: string ... 13 more fields]\n"
      ]
     },
     "execution_count": 8,
     "metadata": {},
     "output_type": "execute_result"
    }
   ],
   "source": [
    "// fit a CountVectorizerModel from the corpus\n",
    "val countVectorizer: CountVectorizer = new CountVectorizer()\n",
    "  .setInputCol(remover.getOutputCol)\n",
    "  .setOutputCol(\"tf\")\n",
    "//  .setMinDF(55)\n",
    "\n",
    "val tfModel = countVectorizer.fit(filtered)\n",
    "\n",
    "val featurized = tfModel.transform(filtered)\n",
    "\n",
    "featurized.select(\"filtered\", \"tf\").show(20)"
   ]
  },
  {
   "cell_type": "markdown",
   "metadata": {},
   "source": [
    "## 5. Compute *IDF* part"
   ]
  },
  {
   "cell_type": "code",
   "execution_count": 9,
   "metadata": {},
   "outputs": [
    {
     "name": "stdout",
     "output_type": "stream",
     "text": [
      "+--------------------------------------------------------------------------------------------------------------------------------------------------------------------------------------------------+---------------------------------------------------------------------------------------------------------------------------------------------------------------------------------------------------------------------------------------------------------------------------------------------------------------------------------------------------------------------------------------------------------------------------------------------------------------------------------------------------------------------+\n",
      "|tf                                                                                                                                                                                                |tfidf                                                                                                                                                                                                                                                                                                                                                                                                                                                                                                                |\n",
      "+--------------------------------------------------------------------------------------------------------------------------------------------------------------------------------------------------+---------------------------------------------------------------------------------------------------------------------------------------------------------------------------------------------------------------------------------------------------------------------------------------------------------------------------------------------------------------------------------------------------------------------------------------------------------------------------------------------------------------------+\n",
      "|(97856,[33,43,91,136,478,2535,2795,2943,3389,4037,4055,4320,6994],[1.0,1.0,2.0,1.0,3.0,2.0,2.0,1.0,1.0,1.0,1.0,1.0,2.0])                                                                          |(97856,[33,43,91,136,478,2535,2795,2943,3389,4037,4055,4320,6994],[3.387685159242627,3.5700067160365814,8.423391198642102,4.169946135347068,16.55369707888766,13.700252332291,13.71787359165531,7.02197642307216,7.179605367275743,7.872752547835688,7.65449898181567,7.872752547835688,16.438057569107045])                                                                                                                                                                                                         |\n",
      "|(97856,[701,874,888,892,1085,3009,5747,9858,20428,42163],[1.0,1.0,3.0,1.0,3.0,3.0,1.0,1.0,3.0,3.0])                                                                                               |(97856,[701,874,888,892,1085,3009,5747,9858,20428,42163],[5.680962766485426,5.757378996929789,18.329583187825456,5.728391460056537,18.760817463823884,22.013488117471912,8.15233741005485,9.021375257078459,29.93066010631769,32.67953230194016])                                                                                                                                                                                                                                                                    |\n",
      "|(97856,[0,7,87,307,399,2766,6730],[1.0,1.0,3.0,1.0,1.0,1.0,3.0])                                                                                                                                  |(97856,[0,7,87,307,399,2766,6730],[2.124603149838364,2.8924926494653023,13.84960183391522,4.934752740950269,5.163077651006477,6.894976732310853,24.657086353660567])                                                                                                                                                                                                                                                                                                                                                 |\n",
      "|(97856,[0,60,86,149,198,223,224,329,423,928,947,1350,1931,2226,5124,5729,8873,25246],[3.0,2.0,1.0,1.0,1.0,1.0,2.0,2.0,2.0,1.0,1.0,1.0,3.0,1.0,1.0,1.0,1.0,1.0])                                   |(97856,[0,60,86,149,198,223,224,329,423,928,947,1350,1931,2226,5124,5729,8873,25246],[6.373809449515091,7.574782608997559,3.8946677917294497,4.363758595717826,4.701837962497214,4.802999413936036,9.783525112037802,10.137306683255442,11.026560160879182,5.643525239413295,5.913001347368503,6.161374597058593,20.630383239682985,6.774140259167579,7.635080895958569,7.848654996256628,8.40827078419205,9.79456514531194])                                                                                        |\n",
      "|(97856,[3,10,13,65,119,234,514,1255,3195,5787,12963],[1.0,1.0,1.0,1.0,1.0,1.0,1.0,1.0,1.0,1.0,1.0])                                                                                               |(97856,[3,10,13,65,119,234,514,1255,3195,5787,12963],[2.7043494302911295,2.667272810609706,2.879172439200593,3.658279013665219,4.531874956407056,4.565240650250856,5.448597560453762,6.089156389246794,6.95159562631036,8.089817053073515,8.878274413437786])                                                                                                                                                                                                                                                        |\n",
      "|(97856,[88,114,157,409,650,863,1045,1298,1467,1615,5542,6343,6434,9303,12453,17700,25094],[1.0,1.0,1.0,1.0,1.0,1.0,1.0,2.0,1.0,1.0,1.0,1.0,1.0,1.0,1.0,2.0,1.0])                                  |(97856,[88,114,157,409,650,863,1045,1298,1467,1615,5542,6343,6434,9303,12453,17700,25094],[4.052096288265907,4.170547639124603,4.473997169829085,5.089549624354134,5.620177875416304,5.805581098747667,6.0256429835244685,12.546237270996418,6.427269315325467,6.183647232667717,7.6160327009878745,8.002805676083886,7.975406701895771,8.541802176816573,8.813735892300215,19.58913029062388,9.79456514531194])                                                                                                     |\n",
      "|(97856,[2,19,44,68,1088,1277,2032,2058,3736,5857,9440],[2.0,1.0,2.0,2.0,2.0,1.0,1.0,1.0,4.0,1.0,1.0])                                                                                             |(97856,[2,19,44,68,1088,1277,2032,2058,3736,5857,9440],[4.108961243273043,3.044438810533387,8.034857902266001,8.24592313803995,12.21137138239601,5.906152005522928,6.790534068943255,6.630497556938735,29.408872439770946,8.059964089923835,8.695952856643832])                                                                                                                                                                                                                                                      |\n",
      "|(97856,[11,19,31,32,105,174,308,327,393,498,631,846,949,1419,1437,1718,3846,4523,7369,96259],[2.0,1.0,1.0,1.0,2.0,1.0,1.0,2.0,1.0,2.0,1.0,1.0,1.0,1.0,1.0,1.0,1.0,1.0,1.0,1.0])                   |(97856,[11,19,31,32,105,174,308,327,393,498,631,846,949,1419,1437,1718,3846,4523,7369,96259],[5.744827972092144,3.044438810533387,3.216472011022468,3.6702465182372106,8.72023120887865,4.304938950969714,4.709028543042567,10.158093804309969,5.029546258381954,10.854458452096127,5.541319300503984,5.824273231759819,5.958703500849359,6.16578961526771,6.197252884723495,6.355215997685409,7.268836501003686,7.736177012829938,8.328228076518513,10.893177433980052])                                            |\n",
      "|(97856,[9,118,286,291,514,2613,3391,3852,3960,9133,13578,26042],[1.0,1.0,1.0,1.0,3.0,1.0,1.0,1.0,1.0,2.0,1.0,1.0])                                                                                |(97856,[9,118,286,291,514,2613,3391,3852,3960,9133,13578,26042],[2.9424987721903926,4.197378516921559,4.845805254933773,4.791738033663497,16.345792681361285,6.904193387415776,7.525881603993577,7.65449898181567,7.508787170634276,17.083604353633145,9.188429341741626,9.79456514531194])                                                                                                                                                                                                                          |\n",
      "|(97856,[50,79,218,394,1329,1427,3932,5797,5844,18916,23448,32256,37987,44848,48248],[2.0,2.0,1.0,1.0,2.0,1.0,1.0,1.0,2.0,1.0,1.0,1.0,1.0,1.0,1.0])                                                |(97856,[50,79,218,394,1329,1427,3932,5797,5844,18916,23448,32256,37987,44848,48248],[7.756726165409012,7.879941784187993,4.677569835224776,5.1679596786037845,12.51689689150083,6.504920249555533,7.543273346705446,7.825124498846433,16.580975497071336,9.50688307286016,9.79456514531194,10.200030253420106,10.200030253420106,10.487712325871886,10.487712325871886])                                                                                                                                             |\n",
      "|(97856,[9,10,23,117,226,346,1777,1788,1885,3328],[1.0,1.0,1.0,1.0,1.0,1.0,3.0,1.0,3.0,1.0])                                                                                                       |(97856,[9,10,23,117,226,346,1777,1788,1885,3328],[2.9424987721903926,2.667272810609706,3.5327554454054555,4.392638796144885,4.805266988603817,5.140604795154418,20.576810387482965,6.28800724799196,19.707134333175215,7.064536037490956])                                                                                                                                                                                                                                                                           |\n",
      "|(97856,[7,33,185,298,460,477,832,875,1675,1718,2315,2532,3979,4227,5492,17294,23138],[1.0,1.0,1.0,2.0,1.0,1.0,1.0,1.0,1.0,1.0,1.0,1.0,1.0,2.0,2.0,2.0,2.0])                                       |(97856,[7,33,185,298,460,477,832,875,1675,1718,2315,2532,3979,4227,5492,17294,23138],[2.8924926494653023,3.387685159242627,4.33853203277215,9.635662805782733,5.517899026295886,5.367724494848267,5.643525239413295,5.627899921510214,6.695975486318242,6.355215997685409,6.688484814589085,7.097688244807856,7.323644737498681,15.30899796363134,15.950813403791543,19.95377340421179,20.975424651743772])                                                                                                          |\n",
      "|(97856,[4,14,105,120,310,415,1497,1847,3348,4118,6012,7230,27118,66083,94067],[1.0,1.0,2.0,1.0,1.0,2.0,1.0,1.0,1.0,1.0,1.0,3.0,1.0,1.0,1.0])                                                      |(97856,[4,14,105,120,310,415,1497,1847,3348,4118,6012,7230,27118,66083,94067],[2.6357917782496147,3.218792197678165,8.72023120887865,4.2104424663249835,4.866104459404701,10.792018417373697,6.056895527028573,6.398938808699241,6.961351801255725,7.396669872513571,7.975406701895771,26.087858569931495,9.976886702105896,10.487712325871886,10.893177433980052])                                                                                                                                                  |\n",
      "|(97856,[50,103,116,272,739,1322,2167,10039],[1.0,2.0,1.0,1.0,2.0,1.0,3.0,1.0])                                                                                                                    |(97856,[50,103,116,272,739,1322,2167,10039],[3.878363082704506,9.015966069964652,4.453028659643928,4.69571549439283,11.611162197495334,6.243990362575185,21.004071407608272,8.695952856643832])                                                                                                                                                                                                                                                                                                                      |\n",
      "|(97856,[32,42,110,277,524,821,923,1626,2653,4309,6243,7412,9155,10294,11825,60064,73521,96678,97466],[1.0,1.0,1.0,2.0,1.0,1.0,1.0,1.0,1.0,1.0,1.0,1.0,2.0,1.0,2.0,2.0,1.0,1.0,1.0])               |(97856,[32,42,110,277,524,821,923,1626,2653,4309,6243,7412,9155,10294,11825,60064,73521,96678,97466],[3.6702465182372106,3.8623199578639302,4.054236470998274,10.061935445458662,5.536591159308038,5.9659237488228465,6.188161913022244,6.438830137726543,7.242519192686312,7.525881603993577,7.825124498846433,8.641885635373555,18.376858683483253,8.813735892300215,18.778200074407554,21.786354867960103,10.893177433980052,10.893177433980052,10.893177433980052])                                              |\n",
      "|(97856,[48,90,150,772,1506,1740,1965,3475,5013,6121,14273],[2.0,1.0,1.0,1.0,1.0,1.0,3.0,1.0,1.0,2.0,1.0])                                                                                         |(97856,[48,90,150,772,1506,1740,1965,3475,5013,6121,14273],[7.444577910935092,3.910314682511108,4.46668897652236,5.736999834593137,6.438830137726543,6.56244409369372,21.193608112472866,7.427441531180325,7.736177012829938,17.18118468197201,9.28373952154595])                                                                                                                                                                                                                                                    |\n",
      "|(97856,[110,571,801,864,877,957,2327,2630,2946,6119,21155,84494],[1.0,1.0,2.0,1.0,1.0,1.0,2.0,1.0,1.0,1.0,1.0,1.0])                                                                               |(97856,[110,571,801,864,877,957,2327,2630,2946,6119,21155,84494],[4.054236470998274,5.361766185264636,12.051285967048937,5.630487245075165,5.651430418920408,5.77219408271493,14.04395284614432,6.894976732310853,7.043029832269992,8.002805676083886,9.79456514531194,10.893177433980052])                                                                                                                                                                                                                          |\n",
      "|(97856,[1,18,42,45,97,174,1506,2330,2786,3155,7055,7998,8797,61426],[2.0,2.0,2.0,1.0,2.0,1.0,1.0,1.0,1.0,1.0,2.0,2.0,2.0,2.0])                                                                    |(97856,[1,18,42,45,97,174,1506,2330,2786,3155,7055,7998,8797,61426],[4.985710388590458,7.0693301153960855,7.7246399157278605,3.7047646974830974,8.274817023991591,4.304938950969714,6.438830137726543,6.991204764405406,7.179605367275743,6.922885520427929,17.391905713287663,16.90166079722169,17.894534569849476,21.786354867960103])                                                                                                                                                                             |\n",
      "|(97856,[3,52,53,66,181,228,275,279,310,517,571,603,980,1214,1406,2007,3119,3285,4693,12562,15495,16691],[2.0,1.0,1.0,1.0,1.0,1.0,1.0,1.0,1.0,1.0,1.0,1.0,1.0,1.0,1.0,1.0,2.0,1.0,1.0,1.0,1.0,2.0])|(97856,[3,52,53,66,181,228,275,279,310,517,571,603,980,1214,1406,2007,3119,3285,4693,12562,15495,16691],[5.408698860582259,3.9172963259503133,3.994462899650063,3.798527736358825,4.764127223919505,4.798479632230417,4.907982499885664,4.698772042875379,4.866104459404701,5.265556320289414,5.361766185264636,5.754442137256479,5.805581098747667,6.135286160974296,6.37138885693101,6.427269315325467,14.823874689288719,7.02197642307216,7.427441531180325,8.947267284924738,9.28373952154595,19.58913029062388])|\n",
      "|(97856,[33,89,260,646,889,974,1043,1349,3659,3986,4477,10711,15378,34221],[1.0,1.0,1.0,1.0,1.0,1.0,2.0,1.0,1.0,1.0,1.0,1.0,1.0,2.0])                                                              |(97856,[33,89,260,646,889,974,1043,1349,3659,3986,4477,10711,15378,34221],[3.387685159242627,4.157397419737724,4.861290972373153,5.30405786764399,5.824273231759819,5.980522548243999,12.606241771604015,5.944417543601882,7.120416495885412,7.635080895958569,7.89744516042606,8.641885635373555,9.640414465484684,20.975424651743772])                                                                                                                                                                             |\n"
     ]
    },
    {
     "name": "stdout",
     "output_type": "stream",
     "text": [
      "+--------------------------------------------------------------------------------------------------------------------------------------------------------------------------------------------------+---------------------------------------------------------------------------------------------------------------------------------------------------------------------------------------------------------------------------------------------------------------------------------------------------------------------------------------------------------------------------------------------------------------------------------------------------------------------------------------------------------------------+\n",
      "only showing top 20 rows\n",
      "\n"
     ]
    },
    {
     "data": {
      "text/plain": [
       "idf: org.apache.spark.ml.feature.IDF = idf_40ec64006757\n",
       "idfModel: org.apache.spark.ml.feature.IDFModel = idf_40ec64006757\n",
       "rescaled: org.apache.spark.sql.DataFrame = [project_id: string, name: string ... 14 more fields]\n"
      ]
     },
     "execution_count": 9,
     "metadata": {},
     "output_type": "execute_result"
    }
   ],
   "source": [
    "val idf = new IDF()\n",
    "    .setInputCol(countVectorizer.getOutputCol)\n",
    "    .setOutputCol(\"tfidf\")\n",
    "\n",
    "val idfModel = idf.fit(featurized)\n",
    "\n",
    "val rescaled = idfModel.transform(featurized)\n",
    "\n",
    "rescaled.select(\"tf\", \"tfidf\").show(false)"
   ]
  },
  {
   "cell_type": "code",
   "execution_count": 11,
   "metadata": {},
   "outputs": [
    {
     "name": "stdout",
     "output_type": "stream",
     "text": [
      "root\n",
      " |-- project_id: string (nullable = true)\n",
      " |-- name: string (nullable = true)\n",
      " |-- desc: string (nullable = true)\n",
      " |-- goal: double (nullable = true)\n",
      " |-- keywords: string (nullable = true)\n",
      " |-- final_status: integer (nullable = true)\n",
      " |-- country2: string (nullable = true)\n",
      " |-- currency2: string (nullable = true)\n",
      " |-- days_campaign: integer (nullable = true)\n",
      " |-- hours_prepa: double (nullable = true)\n",
      " |-- text: string (nullable = true)\n",
      " |-- goal2: double (nullable = true)\n",
      " |-- tokens: array (nullable = true)\n",
      " |    |-- element: string (containsNull = true)\n",
      " |-- filtered: array (nullable = true)\n",
      " |    |-- element: string (containsNull = true)\n",
      " |-- tf: vector (nullable = true)\n",
      " |-- tfidf: vector (nullable = true)\n",
      "\n"
     ]
    }
   ],
   "source": [
    "rescaled.printSchema()"
   ]
  },
  {
   "cell_type": "markdown",
   "metadata": {},
   "source": [
    "## 6. Convert categorial variables into numerical variables"
   ]
  },
  {
   "cell_type": "code",
   "execution_count": 12,
   "metadata": {
    "scrolled": true
   },
   "outputs": [
    {
     "name": "stdout",
     "output_type": "stream",
     "text": [
      "+--------+---------------+\n",
      "|country2|country_indexed|\n",
      "+--------+---------------+\n",
      "|      AU|            3.0|\n",
      "|      DK|            7.0|\n",
      "|      GB|            1.0|\n",
      "|      NZ|            5.0|\n",
      "|      NO|            8.0|\n",
      "|      NL|            4.0|\n",
      "|      DE|           10.0|\n",
      "|      CA|            2.0|\n",
      "|      US|            0.0|\n",
      "|      SE|            6.0|\n",
      "|      IE|            9.0|\n",
      "+--------+---------------+\n",
      "\n"
     ]
    },
    {
     "data": {
      "text/plain": [
       "countryIndexer: org.apache.spark.ml.feature.StringIndexer = strIdx_c6c7c97a3cc5\n",
       "countryIndexed: org.apache.spark.sql.DataFrame = [project_id: string, name: string ... 15 more fields]\n"
      ]
     },
     "execution_count": 12,
     "metadata": {},
     "output_type": "execute_result"
    }
   ],
   "source": [
    "val countryIndexer = new StringIndexer()\n",
    "  .setInputCol(\"country2\")\n",
    "  .setOutputCol(\"country_indexed\")\n",
    "  .setHandleInvalid(\"keep\")\n",
    "\n",
    "val countryIndexed = countryIndexer.fit(rescaled).transform(rescaled)\n",
    "\n",
    "countryIndexed.select(\"country2\", \"country_indexed\").distinct().show()"
   ]
  },
  {
   "cell_type": "code",
   "execution_count": 13,
   "metadata": {},
   "outputs": [
    {
     "name": "stdout",
     "output_type": "stream",
     "text": [
      "+---------+----------------+\n",
      "|currency2|currency_indexed|\n",
      "+---------+----------------+\n",
      "|      USD|             0.0|\n",
      "|      USD|             0.0|\n",
      "|      USD|             0.0|\n",
      "|      USD|             0.0|\n",
      "|      USD|             0.0|\n",
      "|      USD|             0.0|\n",
      "|      EUR|             4.0|\n",
      "|      GBP|             1.0|\n",
      "|      GBP|             1.0|\n",
      "|      USD|             0.0|\n",
      "|      GBP|             1.0|\n",
      "|      USD|             0.0|\n",
      "|      GBP|             1.0|\n",
      "|      USD|             0.0|\n",
      "|      USD|             0.0|\n",
      "|      USD|             0.0|\n",
      "|      USD|             0.0|\n",
      "|      USD|             0.0|\n",
      "|      GBP|             1.0|\n",
      "|      GBP|             1.0|\n",
      "+---------+----------------+\n",
      "only showing top 20 rows\n",
      "\n"
     ]
    },
    {
     "data": {
      "text/plain": [
       "currencyIndexer: org.apache.spark.ml.feature.StringIndexer = strIdx_4fc8b737bec5\n",
       "currencyIndexed: org.apache.spark.sql.DataFrame = [project_id: string, name: string ... 16 more fields]\n"
      ]
     },
     "execution_count": 13,
     "metadata": {},
     "output_type": "execute_result"
    }
   ],
   "source": [
    "val currencyIndexer = new StringIndexer()\n",
    "  .setInputCol(\"currency2\")\n",
    "  .setOutputCol(\"currency_indexed\")\n",
    "  .setHandleInvalid(\"keep\")\n",
    "\n",
    "val currencyIndexed = currencyIndexer.fit(countryIndexed).transform(countryIndexed)\n",
    "currencyIndexed.select(\"currency2\", \"currency_indexed\").show()"
   ]
  },
  {
   "cell_type": "code",
   "execution_count": 14,
   "metadata": {},
   "outputs": [
    {
     "name": "stdout",
     "output_type": "stream",
     "text": [
      "+---------------+----------------+--------------+---------------+\n",
      "|country_indexed|currency_indexed|country_onehot|currency_onehot|\n",
      "+---------------+----------------+--------------+---------------+\n",
      "|0.0            |0.0             |(11,[0],[1.0])|(9,[0],[1.0])  |\n",
      "|0.0            |0.0             |(11,[0],[1.0])|(9,[0],[1.0])  |\n",
      "|0.0            |0.0             |(11,[0],[1.0])|(9,[0],[1.0])  |\n",
      "|0.0            |0.0             |(11,[0],[1.0])|(9,[0],[1.0])  |\n",
      "|0.0            |0.0             |(11,[0],[1.0])|(9,[0],[1.0])  |\n",
      "|0.0            |0.0             |(11,[0],[1.0])|(9,[0],[1.0])  |\n",
      "|4.0            |4.0             |(11,[4],[1.0])|(9,[4],[1.0])  |\n",
      "|1.0            |1.0             |(11,[1],[1.0])|(9,[1],[1.0])  |\n",
      "|1.0            |1.0             |(11,[1],[1.0])|(9,[1],[1.0])  |\n",
      "|0.0            |0.0             |(11,[0],[1.0])|(9,[0],[1.0])  |\n",
      "|1.0            |1.0             |(11,[1],[1.0])|(9,[1],[1.0])  |\n",
      "|0.0            |0.0             |(11,[0],[1.0])|(9,[0],[1.0])  |\n",
      "|1.0            |1.0             |(11,[1],[1.0])|(9,[1],[1.0])  |\n",
      "|0.0            |0.0             |(11,[0],[1.0])|(9,[0],[1.0])  |\n",
      "|0.0            |0.0             |(11,[0],[1.0])|(9,[0],[1.0])  |\n",
      "|0.0            |0.0             |(11,[0],[1.0])|(9,[0],[1.0])  |\n",
      "|0.0            |0.0             |(11,[0],[1.0])|(9,[0],[1.0])  |\n",
      "|0.0            |0.0             |(11,[0],[1.0])|(9,[0],[1.0])  |\n",
      "|1.0            |1.0             |(11,[1],[1.0])|(9,[1],[1.0])  |\n",
      "|1.0            |1.0             |(11,[1],[1.0])|(9,[1],[1.0])  |\n",
      "+---------------+----------------+--------------+---------------+\n",
      "only showing top 20 rows\n",
      "\n"
     ]
    },
    {
     "data": {
      "text/plain": [
       "encoder: org.apache.spark.ml.feature.OneHotEncoderEstimator = oneHotEncoder_5409e3e8c291\n",
       "model: org.apache.spark.ml.feature.OneHotEncoderModel = oneHotEncoder_5409e3e8c291\n",
       "encoded: org.apache.spark.sql.DataFrame = [project_id: string, name: string ... 18 more fields]\n"
      ]
     },
     "execution_count": 14,
     "metadata": {},
     "output_type": "execute_result"
    }
   ],
   "source": [
    "val encoder = new OneHotEncoderEstimator()\n",
    "  .setInputCols(Array(\"country_indexed\", \"currency_indexed\"))\n",
    "  .setOutputCols(Array(\"country_onehot\", \"currency_onehot\"))\n",
    "\n",
    "val model = encoder.fit(currencyIndexed)\n",
    "\n",
    "val encoded = model.transform(currencyIndexed)\n",
    "\n",
    "encoded.select(\"country_indexed\", \"currency_indexed\",\n",
    "               \"country_onehot\", \"currency_onehot\").show(false)"
   ]
  },
  {
   "cell_type": "code",
   "execution_count": 15,
   "metadata": {},
   "outputs": [
    {
     "name": "stdout",
     "output_type": "stream",
     "text": [
      "root\n",
      " |-- project_id: string (nullable = true)\n",
      " |-- name: string (nullable = true)\n",
      " |-- desc: string (nullable = true)\n",
      " |-- goal: double (nullable = true)\n",
      " |-- keywords: string (nullable = true)\n",
      " |-- final_status: integer (nullable = true)\n",
      " |-- country2: string (nullable = true)\n",
      " |-- currency2: string (nullable = true)\n",
      " |-- days_campaign: integer (nullable = true)\n",
      " |-- hours_prepa: double (nullable = true)\n",
      " |-- text: string (nullable = true)\n",
      " |-- goal2: double (nullable = true)\n",
      " |-- tokens: array (nullable = true)\n",
      " |    |-- element: string (containsNull = true)\n",
      " |-- filtered: array (nullable = true)\n",
      " |    |-- element: string (containsNull = true)\n",
      " |-- tf: vector (nullable = true)\n",
      " |-- tfidf: vector (nullable = true)\n",
      " |-- country_indexed: double (nullable = false)\n",
      " |-- currency_indexed: double (nullable = false)\n",
      " |-- country_onehot: vector (nullable = true)\n",
      " |-- currency_onehot: vector (nullable = true)\n",
      "\n"
     ]
    }
   ],
   "source": [
    "encoded.printSchema()"
   ]
  },
  {
   "cell_type": "markdown",
   "metadata": {},
   "source": [
    "## Mettre les données sous une forme utilisable par Spark.ML\n",
    "\n",
    "### 9 : assembler tous les features en un unique vecteur"
   ]
  },
  {
   "cell_type": "code",
   "execution_count": 16,
   "metadata": {
    "scrolled": true
   },
   "outputs": [
    {
     "name": "stdout",
     "output_type": "stream",
     "text": [
      "+--------------------------------------------------------------------------------------------------------------------------------------------------------------------------------------------------------------------------------------------------------------------------------------------------------------------------------------------------------------------------------------------------------------------------------------------------------------------------------------------------------------------------------------------------------------------------------------------+\n",
      "|features                                                                                                                                                                                                                                                                                                                                                                                                                                                                                                                                                                                    |\n",
      "+--------------------------------------------------------------------------------------------------------------------------------------------------------------------------------------------------------------------------------------------------------------------------------------------------------------------------------------------------------------------------------------------------------------------------------------------------------------------------------------------------------------------------------------------------------------------------------------------+\n",
      "|(97879,[33,43,91,136,478,2535,2795,2943,3389,4037,4055,4320,6994,97856,97857,97858,97859,97870],[3.387685159242627,3.5700067160365814,8.423391198642102,4.169946135347068,16.55369707888766,13.700252332291,13.71787359165531,7.02197642307216,7.179605367275743,7.872752547835688,7.65449898181567,7.872752547835688,16.438057569107045,30.0,140.125,11.51293546492023,1.0,1.0])                                                                                                                                                                                                           |\n",
      "|(97879,[701,874,888,892,1085,3009,5747,9858,20428,42163,97856,97857,97858,97859,97870],[5.680962766485426,5.757378996929789,18.329583187825456,5.728391460056537,18.760817463823884,22.013488117471912,8.15233741005485,9.021375257078459,29.93066010631769,32.67953230194016,30.0,18642.51,9.90353755128617,1.0,1.0])                                                                                                                                                                                                                                                                      |\n",
      "|(97879,[0,7,87,307,399,2766,6730,97856,97857,97858,97859,97870],[2.124603149838364,2.8924926494653023,13.84960183391522,4.934752740950269,5.163077651006477,6.894976732310853,24.657086353660567,60.0,336.101,6.55250788703459,1.0,1.0])                                                                                                                                                                                                                                                                                                                                                    |\n",
      "|(97879,[0,60,86,149,198,223,224,329,423,928,947,1350,1931,2226,5124,5729,8873,25246,97856,97857,97858,97859,97870],[6.373809449515091,7.574782608997559,3.8946677917294497,4.363758595717826,4.701837962497214,4.802999413936036,9.783525112037802,10.137306683255442,11.026560160879182,5.643525239413295,5.913001347368503,6.161374597058593,20.630383239682985,6.774140259167579,7.635080895958569,7.848654996256628,8.40827078419205,9.79456514531194,60.0,214.206,9.45727857185611,1.0,1.0])                                                                                           |\n",
      "|(97879,[3,10,13,65,119,234,514,1255,3195,5787,12963,97856,97857,97858,97859,97870],[2.7043494302911295,2.667272810609706,2.879172439200593,3.658279013665219,4.531874956407056,4.565240650250856,5.448597560453762,6.089156389246794,6.95159562631036,8.089817053073515,8.878274413437786,10.0,41.538,7.313886831633462,1.0,1.0])                                                                                                                                                                                                                                                           |\n",
      "|(97879,[88,114,157,409,650,863,1045,1298,1467,1615,5542,6343,6434,9303,12453,17700,25094,97856,97857,97858,97859,97870],[4.052096288265907,4.170547639124603,4.473997169829085,5.089549624354134,5.620177875416304,5.805581098747667,6.0256429835244685,12.546237270996418,6.427269315325467,6.183647232667717,7.6160327009878745,8.002805676083886,7.975406701895771,8.541802176816573,8.813735892300215,19.58913029062388,9.79456514531194,30.0,35.638,11.002116507732017,1.0,1.0])                                                                                                       |\n",
      "|(97879,[2,19,44,68,1088,1277,2032,2058,3736,5857,9440,97856,97857,97858,97863,97874],[4.108961243273043,3.044438810533387,8.034857902266001,8.24592313803995,12.21137138239601,5.906152005522928,6.790534068943255,6.630497556938735,29.408872439770946,8.059964089923835,8.695952856643832,30.0,23.695,9.210440366976517,1.0,1.0])                                                                                                                                                                                                                                                         |\n",
      "|(97879,[11,19,31,32,105,174,308,327,393,498,631,846,949,1419,1437,1718,3846,4523,7369,96259,97856,97857,97858,97860,97871],[5.744827972092144,3.044438810533387,3.216472011022468,3.6702465182372106,8.72023120887865,4.304938950969714,4.709028543042567,10.158093804309969,5.029546258381954,10.854458452096127,5.541319300503984,5.824273231759819,5.958703500849359,6.16578961526771,6.197252884723495,6.355215997685409,7.268836501003686,7.736177012829938,8.328228076518513,10.893177433980052,30.0,359.841,6.90875477931522,1.0,1.0])                                               |\n",
      "|(97879,[9,118,286,291,514,2613,3391,3852,3960,9133,13578,26042,97856,97857,97858,97860,97871],[2.9424987721903926,4.197378516921559,4.845805254933773,4.791738033663497,16.345792681361285,6.904193387415776,7.525881603993577,7.65449898181567,7.508787170634276,17.083604353633145,9.188429341741626,9.79456514531194,18.0,144.552,6.90875477931522,1.0,1.0])                                                                                                                                                                                                                             |\n",
      "|(97879,[50,79,218,394,1329,1427,3932,5797,5844,18916,23448,32256,37987,44848,48248,97856,97857,97858,97859,97870],[7.756726165409012,7.879941784187993,4.677569835224776,5.1679596786037845,12.51689689150083,6.504920249555533,7.543273346705446,7.825124498846433,16.580975497071336,9.50688307286016,9.79456514531194,10.200030253420106,10.200030253420106,10.487712325871886,10.487712325871886,30.0,138.436,11.884495917930655,1.0,1.0])                                                                                                                                              |\n",
      "|(97879,[9,10,23,117,226,346,1777,1788,1885,3328,97856,97857,97858,97860,97871],[2.9424987721903926,2.667272810609706,3.5327554454054555,4.392638796144885,4.805266988603817,5.140604795154418,20.576810387482965,6.28800724799196,19.707134333175215,7.064536037490956,28.0,150.269,8.294299608857235,1.0,1.0])                                                                                                                                                                                                                                                                             |\n",
      "|(97879,[7,33,185,298,460,477,832,875,1675,1718,2315,2532,3979,4227,5492,17294,23138,97856,97857,97858,97859,97870],[2.8924926494653023,3.387685159242627,4.33853203277215,9.635662805782733,5.517899026295886,5.367724494848267,5.643525239413295,5.627899921510214,6.695975486318242,6.355215997685409,6.688484814589085,7.097688244807856,7.323644737498681,15.30899796363134,15.950813403791543,19.95377340421179,20.975424651743772,30.0,830.959,9.210440366976517,1.0,1.0])                                                                                                            |\n",
      "|(97879,[4,14,105,120,310,415,1497,1847,3348,4118,6012,7230,27118,66083,94067,97856,97857,97858,97860,97871],[2.6357917782496147,3.218792197678165,8.72023120887865,4.2104424663249835,4.866104459404701,10.792018417373697,6.056895527028573,6.398938808699241,6.961351801255725,7.396669872513571,7.975406701895771,26.087858569931495,9.976886702105896,10.487712325871886,10.893177433980052,15.0,5622.4,7.313886831633462,1.0,1.0])                                                                                                                                                     |\n",
      "|(97879,[50,103,116,272,739,1322,2167,10039,97856,97857,97858,97859,97870],[3.878363082704506,9.015966069964652,4.453028659643928,4.69571549439283,11.611162197495334,6.243990362575185,21.004071407608272,8.695952856643832,30.0,411.556,8.922791623969637,1.0,1.0])                                                                                                                                                                                                                                                                                                                        |\n",
      "|(97879,[32,42,110,277,524,821,923,1626,2653,4309,6243,7412,9155,10294,11825,60064,73521,96678,97466,97856,97857,97858,97859,97870],[3.6702465182372106,3.8623199578639302,4.054236470998274,10.061935445458662,5.536591159308038,5.9659237488228465,6.188161913022244,6.438830137726543,7.242519192686312,7.525881603993577,7.825124498846433,8.641885635373555,18.376858683483253,8.813735892300215,18.778200074407554,21.786354867960103,10.893177433980052,10.893177433980052,10.893177433980052,30.0,860.718,8.006700845440367,1.0,1.0])                                                |\n",
      "|(97879,[48,90,150,772,1506,1740,1965,3475,5013,6121,14273,97856,97857,97858,97859,97870],[7.444577910935092,3.910314682511108,4.46668897652236,5.736999834593137,6.438830137726543,6.56244409369372,21.193608112472866,7.427441531180325,7.736177012829938,17.18118468197201,9.28373952154595,30.0,142.96,8.517393171418904,1.0,1.0])                                                                                                                                                                                                                                                       |\n",
      "|(97879,[110,571,801,864,877,957,2327,2630,2946,6119,21155,84494,97856,97857,97858,97859,97870],[4.054236470998274,5.361766185264636,12.051285967048937,5.630487245075165,5.651430418920408,5.77219408271493,14.04395284614432,6.894976732310853,7.043029832269992,8.002805676083886,9.79456514531194,10.893177433980052,60.0,2323.241,7.824445930877619,1.0,1.0])                                                                                                                                                                                                                           |\n",
      "|(97879,[1,18,42,45,97,174,1506,2330,2786,3155,7055,7998,8797,61426,97856,97857,97858,97859,97870],[4.985710388590458,7.0693301153960855,7.7246399157278605,3.7047646974830974,8.274817023991591,4.304938950969714,6.438830137726543,6.991204764405406,7.179605367275743,6.922885520427929,17.391905713287663,16.90166079722169,17.894534569849476,21.786354867960103,60.0,66.183,10.357774570341576,1.0,1.0])                                                                                                                                                                               |\n",
      "|(97879,[3,52,53,66,181,228,275,279,310,517,571,603,980,1214,1406,2007,3119,3285,4693,12562,15495,16691,97856,97857,97858,97860,97871],[5.408698860582259,3.9172963259503133,3.994462899650063,3.798527736358825,4.764127223919505,4.798479632230417,4.907982499885664,4.698772042875379,4.866104459404701,5.265556320289414,5.361766185264636,5.754442137256479,5.805581098747667,6.135286160974296,6.37138885693101,6.427269315325467,14.823874689288719,7.02197642307216,7.427441531180325,8.947267284924738,9.28373952154595,19.58913029062388,40.0,8382.372,12.644330802262578,1.0,1.0])|\n",
      "|(97879,[33,89,260,646,889,974,1043,1349,3659,3986,4477,10711,15378,34221,97856,97857,97858,97860,97871],[3.387685159242627,4.157397419737724,4.861290972373153,5.30405786764399,5.824273231759819,5.980522548243999,12.606241771604015,5.944417543601882,7.120416495885412,7.635080895958569,7.89744516042606,8.641885635373555,9.640414465484684,20.975424651743772,30.0,189.471,8.006700845440367,1.0,1.0])                                                                                                                                                                               |\n",
      "+--------------------------------------------------------------------------------------------------------------------------------------------------------------------------------------------------------------------------------------------------------------------------------------------------------------------------------------------------------------------------------------------------------------------------------------------------------------------------------------------------------------------------------------------------------------------------------------------+\n",
      "only showing top 20 rows\n",
      "\n"
     ]
    },
    {
     "data": {
      "text/plain": [
       "assembler: org.apache.spark.ml.feature.VectorAssembler = vecAssembler_969e9f958621\n",
       "assembled: org.apache.spark.sql.DataFrame = [project_id: string, name: string ... 19 more fields]\n"
      ]
     },
     "execution_count": 16,
     "metadata": {},
     "output_type": "execute_result"
    }
   ],
   "source": [
    "val assembler = new VectorAssembler()\n",
    "  .setInputCols(Array(\"tfidf\", \"days_campaign\", \"hours_prepa\", \"goal2\", \"country_onehot\", \"currency_onehot\"))\n",
    "  .setOutputCol(\"features\")\n",
    "\n",
    "val assembled = assembler.transform(encoded)\n",
    "\n",
    "assembled.select(\"features\").show(false)"
   ]
  },
  {
   "cell_type": "markdown",
   "metadata": {},
   "source": [
    "## Stage 10 : créer/instancier le modèle de classification"
   ]
  },
  {
   "cell_type": "code",
   "execution_count": 17,
   "metadata": {},
   "outputs": [
    {
     "data": {
      "text/plain": [
       "lr: org.apache.spark.ml.classification.LogisticRegression = logreg_08747a4c3caa\n"
      ]
     },
     "execution_count": 17,
     "metadata": {},
     "output_type": "execute_result"
    }
   ],
   "source": [
    "val lr = new LogisticRegression()\n",
    "  .setElasticNetParam(0.0)\n",
    "  .setFitIntercept(true)\n",
    "  .setFeaturesCol(\"features\")\n",
    "  .setLabelCol(\"final_status\")\n",
    "  .setStandardization(true)\n",
    "  .setPredictionCol(\"predictions\")\n",
    "  .setRawPredictionCol(\"raw_predictions\")\n",
    "  .setThresholds(Array(0.7, 0.3))\n",
    "  .setTol(1.0e-6)\n",
    "  .setMaxIter(30)"
   ]
  },
  {
   "cell_type": "markdown",
   "metadata": {},
   "source": [
    "## Pipeline"
   ]
  },
  {
   "cell_type": "code",
   "execution_count": 18,
   "metadata": {},
   "outputs": [
    {
     "data": {
      "text/plain": [
       "pipeline: org.apache.spark.ml.Pipeline = pipeline_28d1f4013846\n"
      ]
     },
     "execution_count": 18,
     "metadata": {},
     "output_type": "execute_result"
    }
   ],
   "source": [
    "val pipeline = new Pipeline()\n",
    "  .setStages(Array(tokenizer, remover, countVectorizer, idf,\n",
    "                   countryIndexer, currencyIndexer, encoder, assembler, lr))"
   ]
  },
  {
   "cell_type": "markdown",
   "metadata": {},
   "source": [
    "## Training, test and backup of the model\n",
    "\n",
    "### Split of the data in 2 sets: `training` and `test`\n",
    "\n",
    "We split the data in 2 sets: 90 % of the data for `training` and 10 % for `testing`.\n",
    "Note that we use the initial dataframe `preprocessed`."
   ]
  },
  {
   "cell_type": "code",
   "execution_count": 21,
   "metadata": {},
   "outputs": [
    {
     "data": {
      "text/plain": [
       "training: org.apache.spark.sql.Dataset[org.apache.spark.sql.Row] = [project_id: string, name: string ... 10 more fields]\n",
       "test: org.apache.spark.sql.Dataset[org.apache.spark.sql.Row] = [project_id: string, name: string ... 10 more fields]\n"
      ]
     },
     "execution_count": 21,
     "metadata": {},
     "output_type": "execute_result"
    }
   ],
   "source": [
    "val Array(training, test) = preprocessed_2.randomSplit(Array(0.9, 0.1), 13)"
   ]
  },
  {
   "cell_type": "markdown",
   "metadata": {},
   "source": [
    "### Training of the model"
   ]
  },
  {
   "cell_type": "code",
   "execution_count": 22,
   "metadata": {},
   "outputs": [
    {
     "data": {
      "text/plain": [
       "model_one: org.apache.spark.ml.PipelineModel = pipeline_28d1f4013846\n"
      ]
     },
     "execution_count": 22,
     "metadata": {},
     "output_type": "execute_result"
    }
   ],
   "source": [
    "// create a model from training data\n",
    "val model_one = pipeline.fit(training)"
   ]
  },
  {
   "cell_type": "markdown",
   "metadata": {},
   "source": [
    "### Evaluation of the model / test"
   ]
  },
  {
   "cell_type": "code",
   "execution_count": 23,
   "metadata": {},
   "outputs": [
    {
     "name": "stdout",
     "output_type": "stream",
     "text": [
      "+------------+-----------+-----+\n",
      "|final_status|predictions|count|\n",
      "+------------+-----------+-----+\n",
      "|           1|        0.0| 1832|\n",
      "|           0|        0.0| 5043|\n",
      "|           1|        1.0| 1636|\n",
      "|           0|        1.0| 2244|\n",
      "+------------+-----------+-----+\n",
      "\n"
     ]
    },
    {
     "data": {
      "text/plain": [
       "dfWithSimplePredictions: org.apache.spark.sql.DataFrame = [features: vector, final_status: int ... 1 more field]\n"
      ]
     },
     "execution_count": 23,
     "metadata": {},
     "output_type": "execute_result"
    }
   ],
   "source": [
    "// Make predictions from test data\n",
    "val dfWithSimplePredictions = model_one.transform(test)\n",
    "    .select(\"features\", \"final_status\", \"predictions\")\n",
    "\n",
    "dfWithSimplePredictions.groupBy(\"final_status\", \"predictions\").count.show()"
   ]
  },
  {
   "cell_type": "code",
   "execution_count": 24,
   "metadata": {},
   "outputs": [
    {
     "name": "stdout",
     "output_type": "stream",
     "text": [
      "The f1 score on test set is : 0.626\n"
     ]
    },
    {
     "data": {
      "text/plain": [
       "evaluator: org.apache.spark.ml.evaluation.MulticlassClassificationEvaluator = mcEval_1ddce334530d\n",
       "f1_score: Double = 0.6261255824765122\n"
      ]
     },
     "execution_count": 24,
     "metadata": {},
     "output_type": "execute_result"
    }
   ],
   "source": [
    "// We use f1-score to compare models\n",
    "val evaluator = new MulticlassClassificationEvaluator()\n",
    "    .setLabelCol(\"final_status\")\n",
    "    .setPredictionCol(\"predictions\")\n",
    "    .setMetricName(\"f1\")\n",
    "\n",
    "val f1_score = evaluator.evaluate(dfWithSimplePredictions)\n",
    "\n",
    "printf(\"The f1 score on test set is : %.3f\\n\", f1_score)"
   ]
  },
  {
   "cell_type": "markdown",
   "metadata": {},
   "source": [
    "## Tuning of hyper-parameters of the model"
   ]
  },
  {
   "cell_type": "code",
   "execution_count": 25,
   "metadata": {},
   "outputs": [
    {
     "data": {
      "text/plain": [
       "paramGrid: Array[org.apache.spark.ml.param.ParamMap] =\n",
       "Array({\n",
       "\tcntVec_7a4acd38a546-minDF: 55.0,\n",
       "\tlogreg_08747a4c3caa-regParam: 1.0E-7\n",
       "}, {\n",
       "\tcntVec_7a4acd38a546-minDF: 55.0,\n",
       "\tlogreg_08747a4c3caa-regParam: 1.0E-5\n",
       "}, {\n",
       "\tcntVec_7a4acd38a546-minDF: 55.0,\n",
       "\tlogreg_08747a4c3caa-regParam: 0.001\n",
       "}, {\n",
       "\tcntVec_7a4acd38a546-minDF: 55.0,\n",
       "\tlogreg_08747a4c3caa-regParam: 0.1\n",
       "}, {\n",
       "\tcntVec_7a4acd38a546-minDF: 75.0,\n",
       "\tlogreg_08747a4c3caa-regParam: 1.0E-7\n",
       "}, {\n",
       "\tcntVec_7a4acd38a546-minDF: 75.0,\n",
       "\tlogreg_08747a4c3caa-regParam: 1.0E-5\n",
       "}, {\n",
       "\tcntVec_7a4acd38a546-minDF: 75.0,\n",
       "\tlogreg_08747a4c3caa-regParam: 0.001\n",
       "}, {\n",
       "\tcntVec_7a4acd38a546-minDF: 75.0,\n",
       "\tlogreg_08747a4c3caa-regParam: 0.1\n",
       "}, {\n",
       "\tcntVec_7a4acd38a546-minDF: 95.0,\n",
       "\tlogreg_08747a4c3caa-regParam: 1.0E-7\n",
       "}, {\n",
       "\tcntVec_7a4acd38a546-minDF: 95.0,\n",
       "\tlogreg_08747a4..."
      ]
     },
     "execution_count": 25,
     "metadata": {},
     "output_type": "execute_result"
    }
   ],
   "source": [
    "//Entraînement du classifieur et réglage des hyper-paramètres de l’algorithme\n",
    "/** k) Préparer la grid-search pour satisfaire les conditions explicitées ci-dessus\n",
    " *    puis lancer la grid-search sur le dataset “training” préparé précédemment.  */\n",
    "val paramGrid = new ParamGridBuilder()\n",
    "    .addGrid(lr.regParam, Array(10e-8, 10e-6, 10e-4, 10e-2))\n",
    "    .addGrid(countVectorizer.minDF, Array[Double](55.0, 75.0, 95.0))\n",
    "    .build()\n",
    "\n",
    "val trainValidationSplit = new TrainValidationSplit()\n",
    "    .setEstimator(pipeline)\n",
    "    .setEvaluator(evaluator)\n",
    "    .setEstimatorParamMaps(paramGrid)\n",
    "    .setTrainRatio(0.7) // 70% of the data will be used for training and the remaining 30% for validation."
   ]
  },
  {
   "cell_type": "code",
   "execution_count": 26,
   "metadata": {},
   "outputs": [
    {
     "data": {
      "text/plain": [
       "tvs_model: org.apache.spark.ml.tuning.TrainValidationSplitModel = tvs_c397b1fd4a34\n"
      ]
     },
     "execution_count": 26,
     "metadata": {},
     "output_type": "execute_result"
    }
   ],
   "source": [
    "// Fit the pipeline to training documents.\n",
    "val tvs_model = trainValidationSplit.fit(training)"
   ]
  },
  {
   "cell_type": "code",
   "execution_count": 27,
   "metadata": {},
   "outputs": [
    {
     "name": "stdout",
     "output_type": "stream",
     "text": [
      "+------------+-----------+-----+\n",
      "|final_status|predictions|count|\n",
      "+------------+-----------+-----+\n",
      "|           1|        0.0|  946|\n",
      "|           0|        0.0| 4590|\n",
      "|           1|        1.0| 2522|\n",
      "|           0|        1.0| 2697|\n",
      "+------------+-----------+-----+\n",
      "\n"
     ]
    },
    {
     "data": {
      "text/plain": [
       "predictions: org.apache.spark.sql.DataFrame = [features: vector, final_status: int ... 1 more field]\n"
      ]
     },
     "execution_count": 27,
     "metadata": {},
     "output_type": "execute_result"
    }
   ],
   "source": [
    "val predictions = tvs_model\n",
    "    .transform(test)\n",
    "    .select(\"features\", \"final_status\", \"predictions\")\n",
    "\n",
    "predictions.groupBy(\"final_status\", \"predictions\").count.show()"
   ]
  },
  {
   "cell_type": "code",
   "execution_count": 28,
   "metadata": {},
   "outputs": [
    {
     "name": "stdout",
     "output_type": "stream",
     "text": [
      "The f1 score on test set is : 0.672\n"
     ]
    },
    {
     "data": {
      "text/plain": [
       "f1_score: Double = 0.6722848061132849\n"
      ]
     },
     "execution_count": 28,
     "metadata": {},
     "output_type": "execute_result"
    }
   ],
   "source": [
    "val f1_score = evaluator.evaluate(predictions)\n",
    "\n",
    "printf(\"The f1 score on test set is : %.3f\\n\", f1_score)"
   ]
  },
  {
   "cell_type": "code",
   "execution_count": null,
   "metadata": {},
   "outputs": [],
   "source": [
    "val bestModel = tvs_model.bestModel"
   ]
  },
  {
   "cell_type": "markdown",
   "metadata": {},
   "source": [
    "### save the model on disk"
   ]
  },
  {
   "cell_type": "code",
   "execution_count": null,
   "metadata": {},
   "outputs": [],
   "source": [
    "// Now we can save the fitted pipeline to disk\n",
    "tvs_model.write.overwrite().save(\"save/spark-logistic-regression-model\")"
   ]
  },
  {
   "cell_type": "markdown",
   "metadata": {},
   "source": [
    "### Decision tree"
   ]
  },
  {
   "cell_type": "code",
   "execution_count": null,
   "metadata": {},
   "outputs": [],
   "source": [
    "import org.apache.spark.ml.classification.RandomForestClassifier"
   ]
  },
  {
   "cell_type": "code",
   "execution_count": null,
   "metadata": {},
   "outputs": [],
   "source": [
    "// Train a RandomForest model.\n",
    "val rf = new RandomForestClassifier()\n",
    "  .setFeaturesCol(\"features\")\n",
    "  .setLabelCol(\"final_status\")\n",
    "  .setNumTrees(10)\n",
    "  .setPredictionCol(\"predictions\")\n",
    "  .setRawPredictionCol(\"raw_predictions\")\n",
    "\n",
    "val pipeline_2 = new Pipeline()\n",
    "  .setStages(Array(tokenizer, remover, countVectorizer, idf,\n",
    "                   countryIndexer, currencyIndexer, encoder, assembler, rf))\n",
    "\n",
    "// create a model from training data\n",
    "val model_2 = pipeline_2.fit(training)"
   ]
  },
  {
   "cell_type": "code",
   "execution_count": null,
   "metadata": {},
   "outputs": [],
   "source": [
    "val paramGrid_2 = new ParamGridBuilder()\n",
    "    .addGrid(rf.maxDepth, Array(5, 10, 15))\n",
    "    .addGrid(rf.numTrees, Array(5, 10, 15, 20))\n",
    "    .addGrid(countVectorizer.minDF, Array[Double](55.0, 75.0, 95.0))\n",
    "    .build()\n",
    "\n",
    "val trainValidationSplit_2 = new TrainValidationSplit()\n",
    "    .setEstimator(pipeline_2)\n",
    "    .setEvaluator(evaluator)\n",
    "    .setEstimatorParamMaps(paramGrid_2)\n",
    "    .setTrainRatio(0.7) // 70% of the data will be used for training and the remaining 30% for validation.\n",
    "\n",
    "val predictions_2 = model_2.transform(test)\n",
    "    .select(\"features\", \"final_status\", \"predictions\")\n",
    "\n",
    "val f1_score_2 = evaluator.evaluate(predictions_2)\n",
    "\n",
    "printf(\"The f1 score on test set is : %.3f\\n\", f1_score_2)"
   ]
  },
  {
   "cell_type": "markdown",
   "metadata": {},
   "source": [
    "### variable engineering\n",
    "\n",
    "we propose to categorize goal variable"
   ]
  },
  {
   "cell_type": "code",
   "execution_count": null,
   "metadata": {},
   "outputs": [],
   "source": [
    "println(s\"\\tNombre de lignes : ${preprocessed.count}\")\n",
    "println(s\"\\tNombre de colonnes : ${preprocessed.columns.length}\")"
   ]
  },
  {
   "cell_type": "code",
   "execution_count": null,
   "metadata": {},
   "outputs": [],
   "source": [
    "def goalLog(x: Double): Double = {\n",
    "    val x_out = log1p(x)\n",
    "    x_out\n",
    "}\n",
    "\n",
    "val preprocessed_2: DataFrame = preprocessed\n",
    "  .withColumn(\"goal\", $\"goal\".cast(\"Double\"))\n",
    "  .filter($\"goal\" > 10.0)\n",
    "\n",
    "println(s\"\\tNombre de lignes : ${preprocessed_2.count}\")\n",
    "println(s\"\\tNombre de colonnes : ${preprocessed_2.columns.length}\")"
   ]
  },
  {
   "cell_type": "code",
   "execution_count": null,
   "metadata": {},
   "outputs": [],
   "source": [
    "val Array(training_2, test_2) = preprocessed_2\n",
    "    .randomSplit(Array(0.9, 0.1), 13)"
   ]
  },
  {
   "cell_type": "code",
   "execution_count": null,
   "metadata": {},
   "outputs": [],
   "source": [
    "val splits = Array(Double.NegativeInfinity, 0.0, 10000.0, 100000.0, 1000000.0, Double.PositiveInfinity)\n",
    "\n",
    "val goalBucketizer = new Bucketizer()\n",
    "  .setInputCol(\"goal\")\n",
    "  .setOutputCol(\"goal_bucketed\")\n",
    "  .setSplits(splits)\n",
    "\n",
    "val encoder_2 = new OneHotEncoderEstimator()\n",
    "  .setInputCols(Array(\"country_indexed\", \"currency_indexed\", \"goal_bucketed\"))\n",
    "  .setOutputCols(Array(\"country_onehot\", \"currency_onehot\", \"goal_onehot\"))"
   ]
  },
  {
   "cell_type": "code",
   "execution_count": null,
   "metadata": {},
   "outputs": [],
   "source": [
    "val pipeline_2 = new Pipeline()\n",
    "  .setStages(Array(tokenizer, remover, countVectorizer, idf,\n",
    "                   countryIndexer, currencyIndexer,\n",
    "                   encoder, assembler, lr))"
   ]
  },
  {
   "cell_type": "code",
   "execution_count": null,
   "metadata": {},
   "outputs": [],
   "source": [
    "// create a model from training data\n",
    "val model_2 = pipeline_2.fit(training_2)"
   ]
  },
  {
   "cell_type": "code",
   "execution_count": null,
   "metadata": {},
   "outputs": [],
   "source": [
    "// Make predictions from test data\n",
    "val dfWithSimplePredictions_2 = model_2.transform(test_2)\n",
    "    .select(\"features\", \"final_status\", \"predictions\")\n",
    "\n",
    "dfWithSimplePredictions_2.groupBy(\"final_status\", \"predictions\").count.show()"
   ]
  },
  {
   "cell_type": "code",
   "execution_count": null,
   "metadata": {},
   "outputs": [],
   "source": [
    "val f1_score = evaluator.evaluate(dfWithSimplePredictions_2)\n",
    "\n",
    "printf(\"The f1 score on test set is : %.3f\\n\", f1_score)"
   ]
  },
  {
   "cell_type": "markdown",
   "metadata": {},
   "source": [
    "### Using another classifier algorithm"
   ]
  },
  {
   "cell_type": "code",
   "execution_count": null,
   "metadata": {},
   "outputs": [],
   "source": [
    "val dt = new DecisionTreeClassifier()\n",
    "  .setMaxDepth(3)\n",
    "  .setFeaturesCol(\"features\")\n",
    "  .setLabelCol(\"label\")\n",
    "  .setPredictionCol(\"predictions\")\n"
   ]
  },
  {
   "cell_type": "markdown",
   "metadata": {},
   "source": [
    "Supprimer goal = 0 et goal 95%\n",
    "\n",
    "stat.approximateQuantile"
   ]
  }
 ],
 "metadata": {
  "kernelspec": {
   "display_name": "spylon-kernel",
   "language": "scala",
   "name": "spylon-kernel"
  },
  "language_info": {
   "codemirror_mode": "text/x-scala",
   "file_extension": ".scala",
   "help_links": [
    {
     "text": "MetaKernel Magics",
     "url": "https://metakernel.readthedocs.io/en/latest/source/README.html"
    }
   ],
   "mimetype": "text/x-scala",
   "name": "scala",
   "pygments_lexer": "scala",
   "version": "0.4.1"
  }
 },
 "nbformat": 4,
 "nbformat_minor": 2
}
